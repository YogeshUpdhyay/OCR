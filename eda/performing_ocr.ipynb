{
 "cells": [
  {
   "cell_type": "code",
   "execution_count": 1,
   "id": "649eded1",
   "metadata": {},
   "outputs": [],
   "source": [
    "import cv2\n",
    "import matplotlib.pyplot as plt\n",
    "import os\n",
    "import glob\n",
    "import pytesseract\n",
    "import pandas as pd"
   ]
  },
  {
   "cell_type": "code",
   "execution_count": 2,
   "id": "13436faa",
   "metadata": {},
   "outputs": [],
   "source": [
    "pytesseract.pytesseract.tesseract_cmd = r'C:\\Program Files\\Tesseract-OCR\\tesseract.exe'"
   ]
  },
  {
   "cell_type": "markdown",
   "id": "046d153f",
   "metadata": {},
   "source": [
    "## Performing OCR on cells"
   ]
  },
  {
   "cell_type": "code",
   "execution_count": 3,
   "id": "4b5f3edf",
   "metadata": {},
   "outputs": [
    {
     "name": "stdout",
     "output_type": "stream",
     "text": [
      "['TIME 9945\\n\\x0c', '\\x0c', ' \\n\\n \\n\\x0c', ' \\n\\nfigdes.NeET\\n\\n \\n\\x0c', ' \\n\\n‘OUR RESPONSIBILITY CEASES OF ONCE THE\\nCARRIAGE LEAVES THE WEIGHT BRIDGE\\n\\x0c', ' \\n\\nADD.\\n\\n \\n\\x0c', ' \\n\\nNON-AGBRICUL TURAL\\n\\n \\n\\x0c', ' \\n\\nDATE {5-@2-2020\\n\\n \\n\\x0c', ' \\n\\nVEHICLE N@248AY 6522\\n\\n \\n\\x0c', 'RECEIPT NO20G254\\n\\n \\n\\x0c', ' \\n\\nDRIVERIUT\\n\\x0c', ' \\n\\nWEIGHT KILOGRAMS REMARKS\\n\\n \\n\\x0c', ' \\n\\n{5-O3~2020.09:42\\n\\nL5—@3-2020 09:42\\n\\n \\n\\n \\n\\x0c', ' \\n\\nSe Skig\\nan tS SE ORAL\\n\\nwar. enctl\\n\\nSPee@eskig\\n\\n \\n\\x0c']\n"
     ]
    }
   ],
   "source": [
    "path = '../ocr/*.jpg'\n",
    "cols = ['M/s' , 'Reciept.No' , 'Time']\n",
    "op = []\n",
    "for file in glob.glob(path):\n",
    "    image_read = cv2.imread(file)\n",
    "    text = pytesseract.image_to_string(image_read)\n",
    "    op.append(text)\n",
    "print(op)\n"
   ]
  },
  {
   "cell_type": "markdown",
   "id": "7f4181b1",
   "metadata": {},
   "source": [
    "## Removing Unwanted characters from the text"
   ]
  },
  {
   "cell_type": "code",
   "execution_count": 41,
   "id": "c21daa5f",
   "metadata": {},
   "outputs": [
    {
     "name": "stdout",
     "output_type": "stream",
     "text": [
      "['TIME 9945', '', '  ', ' figdesNeET ', ' ‘OUR RESPONSIBILITY CEASES OF ONCE THECARRIAGE LEAVES THE WEIGHT BRIDGE', ' ADD ', ' NON-AGBRICUL TURAL ', ' DATE 5-2-2020 ', ' VEHICLE N248AY 6522 ', 'RECEIPT NO20G254 ', ' DRIVERIUT', ' WEIGHT KILOGRAMS REMARKS ', ' 5-O320200942L5—3-2020 0942  ', ' Se Skigan tS SE ORALwar enctlSPeeeskig ']\n"
     ]
    }
   ],
   "source": [
    "bad_chars = [';', ':', '!', \"*\" ,\"\\n\" , \"\\x0c\" , \",\" , \".\" , \"@\" , \"{\" , \"}\" , \"~\" ]\n",
    "cleaned_op= []\n",
    "for clean_text in op:\n",
    "    clean_text = ''.join(i for i in clean_text if not i in bad_chars)\n",
    "    cleaned_op.append(clean_text)\n",
    "print(cleaned_op)"
   ]
  },
  {
   "cell_type": "markdown",
   "id": "a47e8453",
   "metadata": {},
   "source": [
    "## Adding data to the Dataframe"
   ]
  },
  {
   "cell_type": "code",
   "execution_count": 43,
   "id": "1d1c54d0",
   "metadata": {},
   "outputs": [
    {
     "data": {
      "text/html": [
       "<div>\n",
       "<style scoped>\n",
       "    .dataframe tbody tr th:only-of-type {\n",
       "        vertical-align: middle;\n",
       "    }\n",
       "\n",
       "    .dataframe tbody tr th {\n",
       "        vertical-align: top;\n",
       "    }\n",
       "\n",
       "    .dataframe thead th {\n",
       "        text-align: right;\n",
       "    }\n",
       "</style>\n",
       "<table border=\"1\" class=\"dataframe\">\n",
       "  <thead>\n",
       "    <tr style=\"text-align: right;\">\n",
       "      <th></th>\n",
       "      <th>Time</th>\n",
       "      <th>M/s</th>\n",
       "      <th>Date</th>\n",
       "      <th>Vehicle.No</th>\n",
       "      <th>Reciept No</th>\n",
       "      <th>Driver</th>\n",
       "    </tr>\n",
       "  </thead>\n",
       "  <tbody>\n",
       "    <tr>\n",
       "      <th>0</th>\n",
       "      <td>TIME 9945</td>\n",
       "      <td>NON-AGBRICUL TURAL</td>\n",
       "      <td>DATE 5-2-2020</td>\n",
       "      <td>VEHICLE N248AY 6522</td>\n",
       "      <td>RECEIPT NO20G254</td>\n",
       "      <td>DRIVERIUT</td>\n",
       "    </tr>\n",
       "  </tbody>\n",
       "</table>\n",
       "</div>"
      ],
      "text/plain": [
       "        Time                   M/s             Date             Vehicle.No  \\\n",
       "0  TIME 9945   NON-AGBRICUL TURAL    DATE 5-2-2020    VEHICLE N248AY 6522    \n",
       "\n",
       "          Reciept No      Driver  \n",
       "0  RECEIPT NO20G254    DRIVERIUT  "
      ]
     },
     "execution_count": 43,
     "metadata": {},
     "output_type": "execute_result"
    }
   ],
   "source": [
    "df = pd.DataFrame({'Time':[cleaned_op[0]],\n",
    "                   'M/s':[cleaned_op[6]],\n",
    "                   'Date':[cleaned_op[7]],\n",
    "                   'Vehicle.No':[cleaned_op[8]],\n",
    "                   'Reciept No':[cleaned_op[9]],\n",
    "                   'Driver':[cleaned_op[10]]\n",
    "                   })\n",
    "df"
   ]
  },
  {
   "cell_type": "code",
   "execution_count": 5,
   "id": "078ec637",
   "metadata": {},
   "outputs": [],
   "source": [
    "\n"
   ]
  },
  {
   "cell_type": "code",
   "execution_count": null,
   "id": "0dab27e3",
   "metadata": {},
   "outputs": [],
   "source": []
  },
  {
   "cell_type": "code",
   "execution_count": null,
   "id": "a1aab4ce",
   "metadata": {},
   "outputs": [],
   "source": []
  },
  {
   "cell_type": "code",
   "execution_count": null,
   "id": "6c70d602",
   "metadata": {},
   "outputs": [],
   "source": []
  }
 ],
 "metadata": {
  "kernelspec": {
   "display_name": "Python 3",
   "language": "python",
   "name": "python3"
  },
  "language_info": {
   "codemirror_mode": {
    "name": "ipython",
    "version": 3
   },
   "file_extension": ".py",
   "mimetype": "text/x-python",
   "name": "python",
   "nbconvert_exporter": "python",
   "pygments_lexer": "ipython3",
   "version": "3.8.0"
  }
 },
 "nbformat": 4,
 "nbformat_minor": 5
}
