{
 "metadata": {
  "language_info": {
   "codemirror_mode": {
    "name": "ipython",
    "version": 3
   },
   "file_extension": ".py",
   "mimetype": "text/x-python",
   "name": "python",
   "nbconvert_exporter": "python",
   "pygments_lexer": "ipython3",
   "version": "3.8.5"
  },
  "orig_nbformat": 2,
  "kernelspec": {
   "name": "pythonjvsc74a57bd0c2cb9c1f5e6d1fcf590505348af6f3218cf6c5ede73bb44b8eb7629465e77476",
   "display_name": "Python 3.8.5  ('venv': venv)"
  },
  "metadata": {
   "interpreter": {
    "hash": "c2cb9c1f5e6d1fcf590505348af6f3218cf6c5ede73bb44b8eb7629465e77476"
   }
  }
 },
 "nbformat": 4,
 "nbformat_minor": 2,
 "cells": [
  {
   "cell_type": "code",
   "execution_count": 6,
   "metadata": {},
   "outputs": [],
   "source": [
    "import os\n",
    "import time\n",
    "import cv2\n",
    "import pytesseract\n",
    "import matplotlib.pyplot as plt "
   ]
  },
  {
   "cell_type": "code",
   "execution_count": 11,
   "metadata": {},
   "outputs": [],
   "source": [
    "texts = []\n",
    "images = os.listdir(os.path.join(os.getcwd(), \"..\", \"ocr\"))\n",
    "for image in images:\n",
    "    image = cv2.imread(os.path.join(os.getcwd(), \"..\", \"ocr\", str(image)), 0)\n",
    "    text = pytesseract.image_to_string(image)\n",
    "    texts.append(text)"
   ]
  },
  {
   "cell_type": "code",
   "execution_count": 12,
   "metadata": {},
   "outputs": [
    {
     "output_type": "execute_result",
     "data": {
      "text/plain": [
       "[' \\n\\n \\n\\x0c',\n",
       " ' \\n\\x0c',\n",
       " ' \\n\\x0c',\n",
       " ' \\n\\n \\n\\x0c',\n",
       " 'Ree\\n\\nemir Se\\n\\n \\n\\x0c',\n",
       " ' \\n\\n \\n\\x0c',\n",
       " ' \\n\\n:\\nt\\nt\\ni\\n\\nTe\\n\\nPe a i BN tS nd ia th baby Er y St EE hie SoS tna\\n\\n \\n\\x0c',\n",
       " ' \\n\\n \\n\\x0c',\n",
       " ' \\n\\n \\n\\x0c',\n",
       " ' \\n\\x0c',\n",
       " ' \\n\\n \\n\\x0c',\n",
       " ' \\n\\x0c',\n",
       " ' \\n\\nGES,\\n\\n \\n\\nait.\\n\\x0c',\n",
       " ' \\n\\x0c']"
      ]
     },
     "metadata": {},
     "execution_count": 12
    }
   ],
   "source": [
    "texts"
   ]
  },
  {
   "cell_type": "code",
   "execution_count": 10,
   "metadata": {},
   "outputs": [
    {
     "output_type": "execute_result",
     "data": {
      "text/plain": [
       "['3.jpg',\n",
       " '1.jpg',\n",
       " '14.jpg',\n",
       " '5.jpg',\n",
       " '7.jpg',\n",
       " '10.jpg',\n",
       " '8.jpg',\n",
       " '11.jpg',\n",
       " '6.jpg',\n",
       " '12.jpg',\n",
       " '9.jpg',\n",
       " '4.jpg',\n",
       " '13.jpg',\n",
       " '2.jpg']"
      ]
     },
     "metadata": {},
     "execution_count": 10
    }
   ],
   "source": [
    "images"
   ]
  },
  {
   "cell_type": "code",
   "execution_count": null,
   "metadata": {},
   "outputs": [],
   "source": []
  }
 ]
}